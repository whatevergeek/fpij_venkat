{
 "cells": [
  {
   "cell_type": "markdown",
   "metadata": {},
   "source": [
    "# Hello, Lambda Expressions"
   ]
  },
  {
   "cell_type": "markdown",
   "metadata": {},
   "source": [
    "## Cities"
   ]
  },
  {
   "cell_type": "code",
   "execution_count": 1,
   "metadata": {
    "scrolled": true
   },
   "outputs": [
    {
     "data": {
      "text/plain": [
       "com.twosigma.beaker.javash.bkrc33d3e7a.IFindCity"
      ]
     },
     "execution_count": 1,
     "metadata": {},
     "output_type": "execute_result"
    }
   ],
   "source": [
    "import java.util.List;\n",
    "\n",
    "interface IFindCity \n",
    "{ \n",
    "    boolean find(final List<String> cities); \n",
    "} "
   ]
  },
  {
   "cell_type": "markdown",
   "metadata": {},
   "source": [
    "Habitual Way (Imperative)"
   ]
  },
  {
   "cell_type": "code",
   "execution_count": 2,
   "metadata": {},
   "outputs": [
    {
     "data": {
      "text/plain": [
       "Found chicago?:true"
      ]
     },
     "execution_count": 2,
     "metadata": {},
     "output_type": "execute_result"
    }
   ],
   "source": [
    "import java.util.List;\n",
    "import java.util.Arrays;\n",
    "\n",
    "IFindCity imperativeWay = (final List<String> cities) -> {\n",
    "    boolean found = false;\n",
    "    for(String city : cities) {\n",
    "      if(city.equals(\"Chicago\")) {\n",
    "        found = true;\n",
    "        break;\n",
    "      }\n",
    "    }\n",
    "\n",
    "    return found;\n",
    "};\n",
    "\n",
    "\n",
    "List<String> cities = Arrays.asList(\"Albany\", \"Boulder\", \"Chicago\", \"Denver\", \"Eugene\");\n",
    "return \"Found chicago?:\" + imperativeWay.find(cities);"
   ]
  },
  {
   "cell_type": "markdown",
   "metadata": {},
   "source": [
    "Better Way (Declarative)"
   ]
  },
  {
   "cell_type": "code",
   "execution_count": 3,
   "metadata": {},
   "outputs": [
    {
     "data": {
      "text/plain": [
       "Found chicago?:true"
      ]
     },
     "execution_count": 3,
     "metadata": {},
     "output_type": "execute_result"
    }
   ],
   "source": [
    "import java.util.List;\n",
    "import java.util.Arrays;\n",
    "\n",
    "List<String> cities = Arrays.asList(\"Albany\", \"Boulder\", \"Chicago\", \"Denver\", \"Eugene\");\n",
    "return \"Found chicago?:\" + cities.contains(\"Chicago\");"
   ]
  },
  {
   "cell_type": "markdown",
   "metadata": {},
   "source": [
    "## Discount"
   ]
  },
  {
   "cell_type": "code",
   "execution_count": 4,
   "metadata": {},
   "outputs": [
    {
     "data": {
      "text/plain": [
       "fpij.Prices"
      ]
     },
     "execution_count": 4,
     "metadata": {},
     "output_type": "execute_result"
    }
   ],
   "source": [
    "package fpij;\n",
    "\n",
    "import java.math.BigDecimal;\n",
    "import java.util.List;\n",
    "import java.util.Arrays;\n",
    "\n",
    "public class Prices {\n",
    "  public static\n",
    "  final List<BigDecimal> prices = Arrays.asList(\n",
    "    new BigDecimal(\"10\"), new BigDecimal(\"30\"), new BigDecimal(\"17\"),\n",
    "    new BigDecimal(\"20\"), new BigDecimal(\"15\"), new BigDecimal(\"18\"),\n",
    "    new BigDecimal(\"45\"), new BigDecimal(\"12\"));\n",
    "}"
   ]
  },
  {
   "cell_type": "markdown",
   "metadata": {},
   "source": [
    "Imperative"
   ]
  },
  {
   "cell_type": "code",
   "execution_count": 5,
   "metadata": {},
   "outputs": [
    {
     "data": {
      "text/plain": [
       "Total of discounted prices: 67.5"
      ]
     },
     "execution_count": 5,
     "metadata": {},
     "output_type": "execute_result"
    }
   ],
   "source": [
    "import java.math.BigDecimal;\n",
    "import java.util.List;\n",
    "import java.util.ArrayList;\n",
    "import java.util.Arrays;\n",
    "import static fpij.Prices.prices;\n",
    "\n",
    "BigDecimal totalOfDiscountedPrices = BigDecimal.ZERO;\n",
    "\n",
    "for(BigDecimal price : prices) {\n",
    "  if(price.compareTo(BigDecimal.valueOf(20)) > 0) \n",
    "    totalOfDiscountedPrices = \n",
    "      totalOfDiscountedPrices.add(price.multiply(BigDecimal.valueOf(0.9)));\n",
    "}\n",
    "\n",
    "return \"Total of discounted prices: \" + totalOfDiscountedPrices;"
   ]
  },
  {
   "cell_type": "markdown",
   "metadata": {},
   "source": [
    "Declarative"
   ]
  },
  {
   "cell_type": "code",
   "execution_count": 6,
   "metadata": {},
   "outputs": [
    {
     "data": {
      "text/plain": [
       "Total of discounted prices: 67.5"
      ]
     },
     "execution_count": 6,
     "metadata": {},
     "output_type": "execute_result"
    }
   ],
   "source": [
    "import java.math.BigDecimal;\n",
    "import java.util.List;\n",
    "import java.util.ArrayList;\n",
    "import java.util.Arrays;\n",
    "import java.util.StringJoiner;\n",
    "import java.util.stream.Collectors;\n",
    "import static fpij.Prices.prices;\n",
    "\n",
    "final BigDecimal totalOfDiscountedPrices = \n",
    "  prices.stream()\n",
    "        .filter(price -> price.compareTo(BigDecimal.valueOf(20)) > 0)\n",
    "        .map(price -> price.multiply(BigDecimal.valueOf(0.9)))\n",
    "        .reduce(BigDecimal.ZERO, BigDecimal::add);\n",
    "\n",
    "return \"Total of discounted prices: \" + totalOfDiscountedPrices;"
   ]
  },
  {
   "cell_type": "code",
   "execution_count": null,
   "metadata": {},
   "outputs": [],
   "source": []
  }
 ],
 "metadata": {
  "kernelspec": {
   "display_name": "Java",
   "language": "java",
   "name": "java"
  },
  "language_info": {
   "codemirror_mode": "text/x-java",
   "file_extension": ".java",
   "mimetype": "",
   "name": "Java",
   "nbconverter_exporter": "",
   "version": "11.0.1"
  },
  "toc": {
   "base_numbering": 1,
   "nav_menu": {},
   "number_sections": false,
   "sideBar": false,
   "skip_h1_title": false,
   "title_cell": "Table of Contents",
   "title_sidebar": "Contents",
   "toc_cell": false,
   "toc_position": {},
   "toc_section_display": false,
   "toc_window_display": false
  }
 },
 "nbformat": 4,
 "nbformat_minor": 4
}
